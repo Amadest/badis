{
  "nbformat": 4,
  "nbformat_minor": 0,
  "metadata": {
    "colab": {
      "provenance": [],
      "authorship_tag": "ABX9TyMz4dEmtcmI+YyXgxLcH5GB",
      "include_colab_link": true
    },
    "kernelspec": {
      "name": "python3",
      "display_name": "Python 3"
    },
    "language_info": {
      "name": "python"
    }
  },
  "cells": [
    {
      "cell_type": "markdown",
      "metadata": {
        "id": "view-in-github",
        "colab_type": "text"
      },
      "source": [
        "<a href=\"https://colab.research.google.com/github/Amadest/badis/blob/master/Badis.ipynb\" target=\"_parent\"><img src=\"https://colab.research.google.com/assets/colab-badge.svg\" alt=\"Open In Colab\"/></a>"
      ]
    },
    {
      "cell_type": "code",
      "execution_count": 1,
      "metadata": {
        "colab": {
          "base_uri": "https://localhost:8080/"
        },
        "id": "lVM201Lgi6L8",
        "outputId": "c813f51d-423b-42dc-fd92-95d79146b8a2"
      },
      "outputs": [
        {
          "output_type": "stream",
          "name": "stderr",
          "text": [
            "WARNING:root:pydrive is deprecated and no longer maintained. We recommend that you migrate your projects to pydrive2, the maintained fork of pydrive\n"
          ]
        }
      ],
      "source": [
        "import requests\n",
        "from bs4 import BeautifulSoup\n",
        "import pandas as pd\n",
        "import gspread\n",
        "from gspread_dataframe import set_with_dataframe\n",
        "from google.oauth2.service_account import Credentials\n",
        "from pydrive.auth import GoogleAuth\n",
        "from pydrive.drive import GoogleDrive\n",
        "\n",
        "#urls\n",
        "sheet_id = \"1xpNbuNUAhVjfShR0RV3qcXr9qZ0lY1m74cOKyoJS6R0\"\n",
        "prem_china = \"625093357\" #Премиум Китай\n",
        "prem_china_url = f\"https://docs.google.com/spreadsheets/d/{sheet_id}/gviz/tq?tqx=out:csv&sheet={prem_china}\"\n",
        "badis_china_url = \"https://docs.google.com/spreadsheets/u/0/d/1xpNbuNUAhVjfShR0RV3qcXr9qZ0lY1m74cOKyoJS6R0/preview/sheet?gid=1096867103\"\n",
        "badis_turkey_url = \"https://docs.google.com/spreadsheets/u/0/d/1xpNbuNUAhVjfShR0RV3qcXr9qZ0lY1m74cOKyoJS6R0/preview/sheet?gid=2137438634\"\n",
        "\n",
        "#PREMIUM CHINA EXECUTE\n",
        "\n",
        "df_prem_china = pd.read_csv(prem_china_url)\n",
        "df_prem_china = df_prem_china.iloc [:, 0:4]\n",
        "df_prem_china[\"код\"] = df_prem_china[\"код\"].astype('str').str.replace(r\".\", r\"\", regex=False)\n",
        "\n",
        "\n",
        "#creds\n",
        "\n",
        "scopes = ['https://www.googleapis.com/auth/spreadsheets',\n",
        "          'https://www.googleapis.com/auth/drive']\n",
        "\n",
        "credentials = Credentials.from_service_account_file('/content/badis-420806-9dc86c5c07ae.json', scopes=scopes)\n",
        "gc = gspread.authorize(credentials)\n",
        "gauth = GoogleAuth()\n",
        "drive = GoogleDrive(gauth)\n",
        "\n",
        "# open a google sheet\n",
        "gs = gc.open_by_key('1oCCpQAUVTCXBEBTgshwjXrfJApLuRIC1XYqS8Ew2eBs')\n",
        "# select a work sheet from its name\n",
        "worksheet1 = gs.worksheet('ChinaPremium')\n",
        "worksheet1.clear()\n",
        "set_with_dataframe(worksheet=worksheet1, dataframe=df_prem_china, include_index=False,\n",
        "include_column_header=True, resize=True)\n",
        "\n",
        "\n",
        "### BADIS CHINA EXECUTE\n",
        "\n",
        "badis_china_page = requests.get(badis_china_url)\n",
        "\n",
        "soup = BeautifulSoup(badis_china_page.text, \"html.parser\")\n",
        "table_badis_china =[]\n",
        "table_badis_china = soup.findAll('table', class_= 'waffle')\n",
        "\n",
        "table_badis_china_data = []\n",
        "rows = table_badis_china[0].findAll('tr')\n",
        "for row in rows:\n",
        "  cols = row.findAll('td')\n",
        "  cols = [ele.text.strip() for ele in cols]\n",
        "  table_badis_china_data.append(cols)\n",
        "\n",
        "df_badis_china = pd.DataFrame(table_badis_china_data)\n",
        "# open a google sheet\n",
        "gs = gc.open_by_key('1oCCpQAUVTCXBEBTgshwjXrfJApLuRIC1XYqS8Ew2eBs')\n",
        "# select a work sheet from its name\n",
        "worksheet2 = gs.worksheet('BadisChina')\n",
        "worksheet2.clear()\n",
        "set_with_dataframe(worksheet=worksheet2, dataframe=df_badis_china, include_index=False,\n",
        "include_column_header=True, resize=True)\n",
        "\n",
        "### BADIS TURKEY EXECUTE\n",
        "\n",
        "badis_turkey_page = requests.get(badis_turkey_url)\n",
        "\n",
        "soup = BeautifulSoup(badis_turkey_page.text, \"html.parser\")\n",
        "table_badis_turkey =[]\n",
        "table_badis_turkey = soup.findAll('table', class_= 'waffle')\n",
        "\n",
        "table_badis_turkey_data = []\n",
        "rows = table_badis_turkey[0].findAll('tr')\n",
        "for row in rows:\n",
        "  cols = row.findAll('td')\n",
        "  cols = [ele.text.strip() for ele in cols]\n",
        "  table_badis_turkey_data.append(cols)\n",
        "\n",
        "df_badis_turkey = pd.DataFrame(table_badis_turkey_data)\n",
        "# open a google sheet\n",
        "gs = gc.open_by_key('1oCCpQAUVTCXBEBTgshwjXrfJApLuRIC1XYqS8Ew2eBs')\n",
        "# select a work sheet from its name\n",
        "worksheet3 = gs.worksheet('BadisTurkey')\n",
        "worksheet3.clear()\n",
        "set_with_dataframe(worksheet=worksheet3, dataframe=df_badis_turkey, include_index=False,\n",
        "include_column_header=True, resize=True)\n"
      ]
    }
  ]
}